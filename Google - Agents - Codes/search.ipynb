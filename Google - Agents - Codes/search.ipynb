{
 "cells": [
  {
   "cell_type": "code",
   "execution_count": 1,
   "id": "8efd6020",
   "metadata": {},
   "outputs": [],
   "source": [
    "from google.adk.agents import Agent\n",
    "from google.adk.tools import google_search  # Import the tool\n",
    "\n",
    "root_agent = Agent(\n",
    "   # A unique name for the agent.\n",
    "   name=\"basic_search_agent\",\n",
    "   # The Large Language Model (LLM) that agent will use.\n",
    "   model=\"gemini-2.0-flash-exp\", # Google AI Studio\n",
    "   #model=\"gemini-2.0-flash-live-preview-04-09\" # Vertex AI Studio\n",
    "   # A short description of the agent's purpose.\n",
    "   description=\"Agent to answer questions using Google Search.\",\n",
    "   # Instructions to set the agent's behavior.\n",
    "   instruction=\"You are an expert researcher. You always stick to the facts.\",\n",
    "   # Add google_search tool to perform grounding with Google search.\n",
    "   tools=[google_search]\n",
    ")"
   ]
  }
 ],
 "metadata": {
  "kernelspec": {
   "display_name": ".venv",
   "language": "python",
   "name": "python3"
  },
  "language_info": {
   "codemirror_mode": {
    "name": "ipython",
    "version": 3
   },
   "file_extension": ".py",
   "mimetype": "text/x-python",
   "name": "python",
   "nbconvert_exporter": "python",
   "pygments_lexer": "ipython3",
   "version": "3.13.2"
  }
 },
 "nbformat": 4,
 "nbformat_minor": 5
}
