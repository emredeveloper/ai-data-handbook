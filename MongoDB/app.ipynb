{
 "cells": [
  {
   "cell_type": "code",
   "execution_count": null,
   "id": "375fbfb1",
   "metadata": {},
   "outputs": [],
   "source": [
    "from pymongo import MongoClient\n",
    "\n",
    "# Connect to the MongoDB server\n",
    "client = MongoClient(\"mongodb://localhost:27017/\")\n",
    "\n",
    "# Access a specific database\n",
    "db = client[\"mydatabase\"]\n",
    "\n",
    "# Access a specific collection within the database\n",
    "collection = db[\"mycollection\"]\n",
    "\n",
    "# Example operation: insert a document\n",
    "collection.insert_one({\"name\": \"Alice\", \"age\": 30})\n",
    "\n",
    "# Example operation: retrieve a document\n",
    "result = collection.find_one({\"name\": \"Alice\"})\n",
    "print(result)\n"
   ]
  },
  {
   "cell_type": "code",
   "execution_count": null,
   "id": "fbfd76a3",
   "metadata": {},
   "outputs": [],
   "source": [
    "from pymongo import MongoClient\n",
    "import random\n",
    "\n",
    "# MongoDB'ye bağlan\n",
    "client = MongoClient(\"mongodb://localhost:27017/\")\n",
    "db = client[\"mydatabase\"]\n",
    "collection = db[\"mycollection\"]\n",
    "\n",
    "# Örnek 100 kullanıcı verisi oluştur\n",
    "names = [\"Alice\", \"Bob\", \"Charlie\", \"David\", \"Eve\", \"Frank\", \"Grace\", \"Helen\", \"Isaac\", \"Julia\"]\n",
    "domains = [\"example.com\", \"mail.com\", \"test.org\"]\n",
    "\n",
    "users = []\n",
    "for i in range(100):\n",
    "    name = random.choice(names)\n",
    "    age = random.randint(18, 65)\n",
    "    email = f\"{name.lower()}{i}@{random.choice(domains)}\"\n",
    "    users.append({\"name\": name, \"age\": age, \"email\": email})\n",
    "\n",
    "# Verileri MongoDB'ye ekle\n",
    "collection.insert_many(users)\n",
    "\n",
    "print(\"100 kullanıcı başarıyla eklendi.\")\n"
   ]
  },
  {
   "cell_type": "code",
   "execution_count": null,
   "id": "7f497de9",
   "metadata": {},
   "outputs": [],
   "source": [
    "collection.insert_one({\"name\": \"Ali\", \"age\": 25})"
   ]
  },
  {
   "cell_type": "code",
   "execution_count": null,
   "id": "388ac777",
   "metadata": {},
   "outputs": [],
   "source": [
    "collection.find_one({\"name\": \"Ali\"}).get(\"age\")"
   ]
  },
  {
   "cell_type": "code",
   "execution_count": null,
   "id": "f2260cc7",
   "metadata": {},
   "outputs": [],
   "source": [
    "collection.update_one({\"name\": \"Ali\"}, {\"$set\": {\"age\": 26}})\n",
    "collection.find_one({\"name\": \"Ali\"}).get(\"age\")"
   ]
  },
  {
   "cell_type": "code",
   "execution_count": null,
   "id": "ec86f76c",
   "metadata": {},
   "outputs": [],
   "source": [
    "# 30 yaşından büyük kullanıcılar\n",
    "collection.find({\"age\": {\"$gt\": 30}})\n",
    "type(collection.find({\"age\": {\"$gt\": 30}}))"
   ]
  },
  {
   "cell_type": "code",
   "execution_count": null,
   "id": "365fdd61",
   "metadata": {},
   "outputs": [],
   "source": [
    "from pymongo import MongoClient\n",
    "\n",
    "# MongoDB bağlantısı\n",
    "client = MongoClient(\"mongodb://localhost:27017/\")\n",
    "db = client[\"mydatabase\"]\n",
    "collection = db[\"mycollection\"]\n",
    "\n",
    "# 1 belge ekleme\n",
    "collection.insert_one({\n",
    "    \"name\": \"Ayşe\",\n",
    "    \"age\": 28,\n",
    "    \"email\": \"ayse@example.com\"\n",
    "})\n",
    "\n",
    "# 3 belgeyi topluca ekleme\n",
    "collection.insert_many([\n",
    "    {\"name\": \"Mehmet\", \"age\": 30, \"email\": \"mehmet@example.com\"},\n",
    "    {\"name\": \"Zeynep\", \"age\": 22, \"email\": \"zeynep@example.com\"},\n",
    "    {\"name\": \"Ahmet\", \"age\": 35, \"email\": \"ahmet@example.com\"}\n",
    "])\n"
   ]
  },
  {
   "cell_type": "code",
   "execution_count": null,
   "id": "cf0c9845",
   "metadata": {},
   "outputs": [],
   "source": [
    "# Tek bir belgeyi oku\n",
    "user = collection.find_one({\"name\": \"Ayşe\"})\n",
    "print(user)\n",
    "\n",
    "# Tüm belgeleri oku ve yazdır\n",
    "for doc in collection.find({\"name\": \"Ayşe\"}):\n",
    "    print(doc)\n"
   ]
  },
  {
   "cell_type": "code",
   "execution_count": null,
   "id": "adee23f3",
   "metadata": {},
   "outputs": [],
   "source": [
    "# Ayşe'nin yaşını 29 yap\n",
    "collection.update_one({\"name\": \"Ayşe\"}, {\"$set\": {\"age\": 29}})\n",
    "\n",
    "# Yaşı 30'dan küçük olan herkesi \"genç\" olarak işaretle\n",
    "collection.update_many({\"age\": {\"$lt\": 30}}, {\"$set\": {\"status\": \"genç\"}})"
   ]
  },
  {
   "cell_type": "code",
   "execution_count": null,
   "id": "b7ad093b",
   "metadata": {},
   "outputs": [],
   "source": [
    "# Ahmet'i sil\n",
    "collection.delete_one({\"name\": \"Ahmet\"})\n",
    "\n",
    "# Yaşı 25'ten küçük olanları sil\n",
    "collection.delete_many({\"age\": {\"$lt\": 25}})\n"
   ]
  },
  {
   "cell_type": "code",
   "execution_count": null,
   "id": "b7cac20b",
   "metadata": {},
   "outputs": [],
   "source": [
    "# Yaşı 30'dan büyük olanları getir\n",
    "for doc in collection.find({\"age\": {\"$gt\": 30}}):\n",
    "    print(doc)\n",
    "\n",
    "# Yaşı 25-35 arası olanları getir\n",
    "for doc in collection.find({\"age\": {\"$gte\": 25, \"$lte\": 35}}):\n",
    "    print(doc)\n"
   ]
  },
  {
   "cell_type": "code",
   "execution_count": null,
   "id": "d284a9ed",
   "metadata": {},
   "outputs": [],
   "source": [
    "# Yaşa göre artan sıralama (1: artan, -1: azalan)\n",
    "for doc in collection.find().sort(\"age\", 1):\n",
    "    print(doc)\n",
    "\n",
    "# Ada göre azalan sıralama\n",
    "for doc in collection.find().sort(\"name\", -1):\n",
    "    print(doc)\n"
   ]
  },
  {
   "cell_type": "code",
   "execution_count": null,
   "id": "0911857c",
   "metadata": {},
   "outputs": [],
   "source": [
    "# İlk 5 kullanıcı\n",
    "for doc in collection.find().limit(5):\n",
    "    print(doc)\n"
   ]
  },
  {
   "cell_type": "code",
   "execution_count": 23,
   "id": "d0b30b50",
   "metadata": {},
   "outputs": [
    {
     "name": "stdout",
     "output_type": "stream",
     "text": [
      "{'_id': ObjectId('680a35aa3c177d3ffd1d8815'), 'name': 'Ali', 'age': 26, 'status': 'genç'}\n",
      "{'_id': ObjectId('680a35613c177d3ffd1d87ff'), 'name': 'Isaac', 'age': 26, 'email': 'isaac78@example.com', 'status': 'genç'}\n",
      "{'_id': ObjectId('680a35613c177d3ffd1d87c6'), 'name': 'Julia', 'age': 27, 'email': 'julia21@example.com', 'status': 'genç'}\n"
     ]
    }
   ],
   "source": [
    "# Yaşı 25’ten büyük olan ilk 3 kullanıcıyı, yaşa göre artan sırada getir\n",
    "for doc in collection.find({\"age\": {\"$gt\": 25}}).sort(\"age\", 1).limit(3):\n",
    "    print(doc)\n"
   ]
  },
  {
   "cell_type": "code",
   "execution_count": 24,
   "id": "eff7f724",
   "metadata": {},
   "outputs": [
    {
     "name": "stdout",
     "output_type": "stream",
     "text": [
      "{'_id': 58, 'count': 1}\n",
      "{'_id': 50, 'count': 2}\n",
      "{'_id': 59, 'count': 1}\n",
      "{'_id': 41, 'count': 3}\n",
      "{'_id': 26, 'count': 2}\n",
      "{'_id': 63, 'count': 2}\n",
      "{'_id': 48, 'count': 4}\n",
      "{'_id': 57, 'count': 3}\n",
      "{'_id': 28, 'count': 3}\n",
      "{'_id': 29, 'count': 2}\n",
      "{'_id': 51, 'count': 3}\n",
      "{'_id': 60, 'count': 1}\n",
      "{'_id': 25, 'count': 3}\n",
      "{'_id': 55, 'count': 2}\n",
      "{'_id': 38, 'count': 2}\n",
      "{'_id': 61, 'count': 3}\n",
      "{'_id': 37, 'count': 1}\n",
      "{'_id': 27, 'count': 4}\n",
      "{'_id': 44, 'count': 1}\n",
      "{'_id': 56, 'count': 1}\n",
      "{'_id': 46, 'count': 4}\n",
      "{'_id': 65, 'count': 1}\n",
      "{'_id': 43, 'count': 5}\n",
      "{'_id': 32, 'count': 2}\n",
      "{'_id': 34, 'count': 1}\n",
      "{'_id': 62, 'count': 2}\n",
      "{'_id': 35, 'count': 1}\n",
      "{'_id': 36, 'count': 1}\n",
      "{'_id': 64, 'count': 6}\n",
      "{'_id': 40, 'count': 1}\n",
      "{'_id': 30, 'count': 3}\n",
      "{'_id': 31, 'count': 3}\n",
      "{'_id': 45, 'count': 2}\n",
      "{'_id': 39, 'count': 1}\n",
      "{'_id': 54, 'count': 2}\n",
      "{'_id': 47, 'count': 4}\n"
     ]
    }
   ],
   "source": [
    "# Kullanıcıları aynı yaşta olanları grupla ve say\n",
    "result = collection.aggregate([\n",
    "    {\"$group\": {\"_id\": \"$age\", \"count\": {\"$sum\": 1}}}\n",
    "])\n",
    "\n",
    "for doc in result:\n",
    "    print(doc)"
   ]
  },
  {
   "cell_type": "code",
   "execution_count": 25,
   "id": "7b421b35",
   "metadata": {},
   "outputs": [
    {
     "name": "stdout",
     "output_type": "stream",
     "text": [
      "{'_id': None, 'average_age': 44.74698795180723}\n"
     ]
    }
   ],
   "source": [
    "# Ortalama yaşı hesapla\n",
    "result = collection.aggregate([\n",
    "    {\"$group\": {\"_id\": None, \"average_age\": {\"$avg\": \"$age\"}}}\n",
    "])\n",
    "\n",
    "for doc in result:\n",
    "    print(doc)"
   ]
  },
  {
   "cell_type": "code",
   "execution_count": 26,
   "id": "e674a333",
   "metadata": {},
   "outputs": [
    {
     "name": "stdout",
     "output_type": "stream",
     "text": [
      "{'_id': 'genç', 'max_age': 29}\n",
      "{'_id': None, 'max_age': 65}\n"
     ]
    }
   ],
   "source": [
    "# Her status grubundaki en yaşlı kullanıcıyı bul\n",
    "result = collection.aggregate([\n",
    "    {\"$group\": {\"_id\": \"$status\", \"max_age\": {\"$max\": \"$age\"}}}\n",
    "])\n",
    "\n",
    "for doc in result:\n",
    "    print(doc)\n"
   ]
  },
  {
   "cell_type": "code",
   "execution_count": 27,
   "id": "bb311557",
   "metadata": {},
   "outputs": [
    {
     "name": "stdout",
     "output_type": "stream",
     "text": [
      "{'_id': 64, 'total': 6}\n",
      "{'_id': 43, 'total': 5}\n",
      "{'_id': 27, 'total': 4}\n",
      "{'_id': 48, 'total': 4}\n",
      "{'_id': 47, 'total': 4}\n",
      "{'_id': 46, 'total': 4}\n",
      "{'_id': 51, 'total': 3}\n",
      "{'_id': 31, 'total': 3}\n",
      "{'_id': 57, 'total': 3}\n",
      "{'_id': 28, 'total': 3}\n",
      "{'_id': 41, 'total': 3}\n",
      "{'_id': 61, 'total': 3}\n",
      "{'_id': 30, 'total': 3}\n",
      "{'_id': 29, 'total': 2}\n",
      "{'_id': 50, 'total': 2}\n",
      "{'_id': 26, 'total': 2}\n",
      "{'_id': 38, 'total': 2}\n",
      "{'_id': 55, 'total': 2}\n",
      "{'_id': 62, 'total': 2}\n",
      "{'_id': 32, 'total': 2}\n",
      "{'_id': 54, 'total': 2}\n",
      "{'_id': 45, 'total': 2}\n",
      "{'_id': 63, 'total': 2}\n",
      "{'_id': 44, 'total': 1}\n",
      "{'_id': 37, 'total': 1}\n",
      "{'_id': 65, 'total': 1}\n",
      "{'_id': 56, 'total': 1}\n",
      "{'_id': 58, 'total': 1}\n",
      "{'_id': 59, 'total': 1}\n",
      "{'_id': 36, 'total': 1}\n",
      "{'_id': 60, 'total': 1}\n",
      "{'_id': 35, 'total': 1}\n",
      "{'_id': 39, 'total': 1}\n",
      "{'_id': 34, 'total': 1}\n",
      "{'_id': 40, 'total': 1}\n"
     ]
    }
   ],
   "source": [
    "# Yaşı 25’ten büyük olanları al, yaşa göre grupla ve say, sonra sırala\n",
    "result = collection.aggregate([\n",
    "    {\"$match\": {\"age\": {\"$gt\": 25}}},\n",
    "    {\"$group\": {\"_id\": \"$age\", \"total\": {\"$sum\": 1}}},\n",
    "    {\"$sort\": {\"total\": -1}}\n",
    "])\n",
    "\n",
    "for doc in result:\n",
    "    print(doc)\n"
   ]
  },
  {
   "cell_type": "code",
   "execution_count": 28,
   "id": "5f3cc7a3",
   "metadata": {},
   "outputs": [
    {
     "data": {
      "text/plain": [
       "'name_1'"
      ]
     },
     "execution_count": 28,
     "metadata": {},
     "output_type": "execute_result"
    }
   ],
   "source": [
    "collection.create_index(\"name\")"
   ]
  },
  {
   "cell_type": "code",
   "execution_count": 29,
   "id": "30d0a158",
   "metadata": {},
   "outputs": [
    {
     "data": {
      "text/plain": [
       "'name_1_age_-1'"
      ]
     },
     "execution_count": 29,
     "metadata": {},
     "output_type": "execute_result"
    }
   ],
   "source": [
    "# name + age alanları birlikte aranacaksa\n",
    "collection.create_index([(\"name\", 1), (\"age\", -1)])  # artan ve azalan sıralama"
   ]
  },
  {
   "cell_type": "code",
   "execution_count": 32,
   "id": "981384d9",
   "metadata": {},
   "outputs": [],
   "source": [
    "# metin arama için text index\n",
    "collection.create_index([(\"name\", \"text\"), (\"email\", \"text\")])\n",
    "\n",
    "# arama: \"Ayşe\" geçen belgeleri bul\n",
    "for doc in collection.find({\"$text\": {\"$search\": \"Ahmet\"}}):\n",
    "    print(doc)"
   ]
  },
  {
   "cell_type": "code",
   "execution_count": 33,
   "id": "342af5cf",
   "metadata": {},
   "outputs": [
    {
     "data": {
      "text/plain": [
       "'email_1'"
      ]
     },
     "execution_count": 33,
     "metadata": {},
     "output_type": "execute_result"
    }
   ],
   "source": [
    "# email alanı tekrarlanmasın\n",
    "collection.create_index(\"email\", unique=True)"
   ]
  },
  {
   "cell_type": "code",
   "execution_count": 36,
   "id": "42eaddab",
   "metadata": {},
   "outputs": [
    {
     "name": "stdout",
     "output_type": "stream",
     "text": [
      "{'namespace': 'mydatabase.mycollection', 'parsedQuery': {'name': {'$eq': 'Ayşe'}}, 'indexFilterSet': False, 'queryHash': '544F3E5C', 'planCacheShapeHash': '544F3E5C', 'planCacheKey': '5BDD53AF', 'optimizationTimeMillis': 0, 'maxIndexedOrSolutionsReached': False, 'maxIndexedAndSolutionsReached': False, 'maxScansToExplodeReached': False, 'prunedSimilarIndexes': False, 'winningPlan': {'isCached': False, 'stage': 'FETCH', 'inputStage': {'stage': 'IXSCAN', 'keyPattern': {'name': 1}, 'indexName': 'name_1', 'isMultiKey': False, 'multiKeyPaths': {'name': []}, 'isUnique': False, 'isSparse': False, 'isPartial': False, 'indexVersion': 2, 'direction': 'forward', 'indexBounds': {'name': ['[\"Ayşe\", \"Ayşe\"]']}}}, 'rejectedPlans': [{'isCached': False, 'stage': 'FETCH', 'inputStage': {'stage': 'IXSCAN', 'keyPattern': {'name': 1, 'age': -1}, 'indexName': 'name_1_age_-1', 'isMultiKey': False, 'multiKeyPaths': {'name': [], 'age': []}, 'isUnique': False, 'isSparse': False, 'isPartial': False, 'indexVersion': 2, 'direction': 'forward', 'indexBounds': {'name': ['[\"Ayşe\", \"Ayşe\"]'], 'age': ['[MaxKey, MinKey]']}}}]}\n"
     ]
    }
   ],
   "source": [
    "# Bu sorgu henüz index kullanılmadan yapılacak\n",
    "result = collection.find({\"name\": \"Ayşe\"}).explain()\n",
    "\n",
    "# Sorgu planını incele\n",
    "print(result[\"queryPlanner\"])"
   ]
  },
  {
   "cell_type": "code",
   "execution_count": 37,
   "id": "473ae172",
   "metadata": {},
   "outputs": [
    {
     "name": "stdout",
     "output_type": "stream",
     "text": [
      "FETCH\n"
     ]
    }
   ],
   "source": [
    "result = collection.find({\"name\": \"Ayşe\"}).explain()\n",
    "print(result[\"queryPlanner\"][\"winningPlan\"][\"stage\"])"
   ]
  },
  {
   "cell_type": "code",
   "execution_count": 38,
   "id": "4a271ec3",
   "metadata": {},
   "outputs": [
    {
     "name": "stdout",
     "output_type": "stream",
     "text": [
      "{'command': {'$db': 'mydatabase',\n",
      "             'filter': {'name': 'Ayşe'},\n",
      "             'find': 'mycollection'},\n",
      " 'executionStats': {'allPlansExecution': [{'executionStages': {'advanced': 1,\n",
      "                                                               'alreadyHasObj': 0,\n",
      "                                                               'docsExamined': 1,\n",
      "                                                               'executionTimeMillisEstimate': 0,\n",
      "                                                               'inputStage': {'advanced': 1,\n",
      "                                                                              'direction': 'forward',\n",
      "                                                                              'dupsDropped': 0,\n",
      "                                                                              'dupsTested': 0,\n",
      "                                                                              'executionTimeMillisEstimate': 0,\n",
      "                                                                              'indexBounds': {'name': ['[\"Ayşe\", '\n",
      "                                                                                                       '\"Ayşe\"]']},\n",
      "                                                                              'indexName': 'name_1',\n",
      "                                                                              'indexVersion': 2,\n",
      "                                                                              'isEOF': 1,\n",
      "                                                                              'isMultiKey': False,\n",
      "                                                                              'isPartial': False,\n",
      "                                                                              'isSparse': False,\n",
      "                                                                              'isUnique': False,\n",
      "                                                                              'keyPattern': {'name': 1},\n",
      "                                                                              'keysExamined': 1,\n",
      "                                                                              'multiKeyPaths': {'name': []},\n",
      "                                                                              'nReturned': 1,\n",
      "                                                                              'needTime': 0,\n",
      "                                                                              'needYield': 0,\n",
      "                                                                              'restoreState': 0,\n",
      "                                                                              'saveState': 0,\n",
      "                                                                              'seeks': 1,\n",
      "                                                                              'stage': 'IXSCAN',\n",
      "                                                                              'works': 2},\n",
      "                                                               'isCached': False,\n",
      "                                                               'isEOF': 1,\n",
      "                                                               'nReturned': 1,\n",
      "                                                               'needTime': 0,\n",
      "                                                               'needYield': 0,\n",
      "                                                               'restoreState': 0,\n",
      "                                                               'saveState': 0,\n",
      "                                                               'stage': 'FETCH',\n",
      "                                                               'works': 2},\n",
      "                                           'executionTimeMillisEstimate': 0,\n",
      "                                           'nReturned': 1,\n",
      "                                           'score': 2.5002,\n",
      "                                           'totalDocsExamined': 1,\n",
      "                                           'totalKeysExamined': 1},\n",
      "                                          {'executionStages': {'advanced': 1,\n",
      "                                                               'alreadyHasObj': 0,\n",
      "                                                               'docsExamined': 1,\n",
      "                                                               'executionTimeMillisEstimate': 0,\n",
      "                                                               'inputStage': {'advanced': 1,\n",
      "                                                                              'direction': 'forward',\n",
      "                                                                              'dupsDropped': 0,\n",
      "                                                                              'dupsTested': 0,\n",
      "                                                                              'executionTimeMillisEstimate': 0,\n",
      "                                                                              'indexBounds': {'age': ['[MaxKey, '\n",
      "                                                                                                      'MinKey]'],\n",
      "                                                                                              'name': ['[\"Ayşe\", '\n",
      "                                                                                                       '\"Ayşe\"]']},\n",
      "                                                                              'indexName': 'name_1_age_-1',\n",
      "                                                                              'indexVersion': 2,\n",
      "                                                                              'isEOF': 1,\n",
      "                                                                              'isMultiKey': False,\n",
      "                                                                              'isPartial': False,\n",
      "                                                                              'isSparse': False,\n",
      "                                                                              'isUnique': False,\n",
      "                                                                              'keyPattern': {'age': -1,\n",
      "                                                                                             'name': 1},\n",
      "                                                                              'keysExamined': 1,\n",
      "                                                                              'multiKeyPaths': {'age': [],\n",
      "                                                                                                'name': []},\n",
      "                                                                              'nReturned': 1,\n",
      "                                                                              'needTime': 0,\n",
      "                                                                              'needYield': 0,\n",
      "                                                                              'restoreState': 0,\n",
      "                                                                              'saveState': 1,\n",
      "                                                                              'seeks': 1,\n",
      "                                                                              'stage': 'IXSCAN',\n",
      "                                                                              'works': 2},\n",
      "                                                               'isCached': False,\n",
      "                                                               'isEOF': 1,\n",
      "                                                               'nReturned': 1,\n",
      "                                                               'needTime': 0,\n",
      "                                                               'needYield': 0,\n",
      "                                                               'restoreState': 0,\n",
      "                                                               'saveState': 1,\n",
      "                                                               'stage': 'FETCH',\n",
      "                                                               'works': 2},\n",
      "                                           'executionTimeMillisEstimate': 0,\n",
      "                                           'nReturned': 1,\n",
      "                                           'score': 2.5002,\n",
      "                                           'totalDocsExamined': 1,\n",
      "                                           'totalKeysExamined': 1}],\n",
      "                    'executionStages': {'advanced': 1,\n",
      "                                        'alreadyHasObj': 0,\n",
      "                                        'docsExamined': 1,\n",
      "                                        'executionTimeMillisEstimate': 0,\n",
      "                                        'inputStage': {'advanced': 1,\n",
      "                                                       'direction': 'forward',\n",
      "                                                       'dupsDropped': 0,\n",
      "                                                       'dupsTested': 0,\n",
      "                                                       'executionTimeMillisEstimate': 0,\n",
      "                                                       'indexBounds': {'name': ['[\"Ayşe\", '\n",
      "                                                                                '\"Ayşe\"]']},\n",
      "                                                       'indexName': 'name_1',\n",
      "                                                       'indexVersion': 2,\n",
      "                                                       'isEOF': 1,\n",
      "                                                       'isMultiKey': False,\n",
      "                                                       'isPartial': False,\n",
      "                                                       'isSparse': False,\n",
      "                                                       'isUnique': False,\n",
      "                                                       'keyPattern': {'name': 1},\n",
      "                                                       'keysExamined': 1,\n",
      "                                                       'multiKeyPaths': {'name': []},\n",
      "                                                       'nReturned': 1,\n",
      "                                                       'needTime': 0,\n",
      "                                                       'needYield': 0,\n",
      "                                                       'restoreState': 0,\n",
      "                                                       'saveState': 0,\n",
      "                                                       'seeks': 1,\n",
      "                                                       'stage': 'IXSCAN',\n",
      "                                                       'works': 2},\n",
      "                                        'isCached': False,\n",
      "                                        'isEOF': 1,\n",
      "                                        'nReturned': 1,\n",
      "                                        'needTime': 0,\n",
      "                                        'needYield': 0,\n",
      "                                        'restoreState': 0,\n",
      "                                        'saveState': 0,\n",
      "                                        'stage': 'FETCH',\n",
      "                                        'works': 3},\n",
      "                    'executionSuccess': True,\n",
      "                    'executionTimeMillis': 0,\n",
      "                    'nReturned': 1,\n",
      "                    'totalDocsExamined': 1,\n",
      "                    'totalKeysExamined': 1},\n",
      " 'explainVersion': '1',\n",
      " 'ok': 1.0,\n",
      " 'queryPlanner': {'indexFilterSet': False,\n",
      "                  'maxIndexedAndSolutionsReached': False,\n",
      "                  'maxIndexedOrSolutionsReached': False,\n",
      "                  'maxScansToExplodeReached': False,\n",
      "                  'namespace': 'mydatabase.mycollection',\n",
      "                  'optimizationTimeMillis': 0,\n",
      "                  'parsedQuery': {'name': {'$eq': 'Ayşe'}},\n",
      "                  'planCacheKey': '5BDD53AF',\n",
      "                  'planCacheShapeHash': '544F3E5C',\n",
      "                  'prunedSimilarIndexes': False,\n",
      "                  'queryHash': '544F3E5C',\n",
      "                  'rejectedPlans': [{'inputStage': {'direction': 'forward',\n",
      "                                                    'indexBounds': {'age': ['[MaxKey, '\n",
      "                                                                            'MinKey]'],\n",
      "                                                                    'name': ['[\"Ayşe\", '\n",
      "                                                                             '\"Ayşe\"]']},\n",
      "                                                    'indexName': 'name_1_age_-1',\n",
      "                                                    'indexVersion': 2,\n",
      "                                                    'isMultiKey': False,\n",
      "                                                    'isPartial': False,\n",
      "                                                    'isSparse': False,\n",
      "                                                    'isUnique': False,\n",
      "                                                    'keyPattern': {'age': -1,\n",
      "                                                                   'name': 1},\n",
      "                                                    'multiKeyPaths': {'age': [],\n",
      "                                                                      'name': []},\n",
      "                                                    'stage': 'IXSCAN'},\n",
      "                                     'isCached': False,\n",
      "                                     'stage': 'FETCH'}],\n",
      "                  'winningPlan': {'inputStage': {'direction': 'forward',\n",
      "                                                 'indexBounds': {'name': ['[\"Ayşe\", '\n",
      "                                                                          '\"Ayşe\"]']},\n",
      "                                                 'indexName': 'name_1',\n",
      "                                                 'indexVersion': 2,\n",
      "                                                 'isMultiKey': False,\n",
      "                                                 'isPartial': False,\n",
      "                                                 'isSparse': False,\n",
      "                                                 'isUnique': False,\n",
      "                                                 'keyPattern': {'name': 1},\n",
      "                                                 'multiKeyPaths': {'name': []},\n",
      "                                                 'stage': 'IXSCAN'},\n",
      "                                  'isCached': False,\n",
      "                                  'stage': 'FETCH'}},\n",
      " 'queryShapeHash': 'AFB8DCBEE62925DBECCC174C4D3B8BC69C3711F3F27506EFACF7DD6B92277A1C',\n",
      " 'serverInfo': {'gitVersion': 'cb9e2e5e552ee39dea1e39d7859336456d0c9820',\n",
      "                'host': 'Emre',\n",
      "                'port': 27017,\n",
      "                'version': '8.0.5'},\n",
      " 'serverParameters': {'internalDocumentSourceGroupMaxMemoryBytes': 104857600,\n",
      "                      'internalDocumentSourceSetWindowFieldsMaxMemoryBytes': 104857600,\n",
      "                      'internalLookupStageIntermediateDocumentMaxSizeBytes': 104857600,\n",
      "                      'internalQueryFacetBufferSizeBytes': 104857600,\n",
      "                      'internalQueryFacetMaxOutputDocSizeBytes': 104857600,\n",
      "                      'internalQueryFrameworkControl': 'trySbeRestricted',\n",
      "                      'internalQueryMaxAddToSetBytes': 104857600,\n",
      "                      'internalQueryMaxBlockingSortMemoryUsageBytes': 104857600,\n",
      "                      'internalQueryPlannerIgnoreIndexWithCollationForRegex': 1,\n",
      "                      'internalQueryProhibitBlockingMergeOnMongoS': 0}}\n"
     ]
    }
   ],
   "source": [
    "from pprint import pprint\n",
    "pprint(collection.find({\"name\": \"Ayşe\"}).explain())"
   ]
  }
 ],
 "metadata": {
  "kernelspec": {
   "display_name": ".venv",
   "language": "python",
   "name": "python3"
  },
  "language_info": {
   "codemirror_mode": {
    "name": "ipython",
    "version": 3
   },
   "file_extension": ".py",
   "mimetype": "text/x-python",
   "name": "python",
   "nbconvert_exporter": "python",
   "pygments_lexer": "ipython3",
   "version": "3.13.2"
  }
 },
 "nbformat": 4,
 "nbformat_minor": 5
}
