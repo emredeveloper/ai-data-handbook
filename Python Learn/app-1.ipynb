{
 "cells": [
  {
   "cell_type": "code",
   "execution_count": null,
   "id": "c029a2e7",
   "metadata": {},
   "outputs": [],
   "source": [
    "# Generator for memory-efficient input processing\n",
    "def read_lines():\n",
    "    while True:\n",
    "        line = input()\n",
    "        if line.lower() == \"done\":\n",
    "            break\n",
    "        yield line\n",
    "\n",
    "for line in read_lines():\n",
    "    print(f\"Processing: {line}\")"
   ]
  },
  {
   "cell_type": "code",
   "execution_count": null,
   "id": "fe389616",
   "metadata": {},
   "outputs": [],
   "source": [
    "# Buffered chunk processing \n",
    "def process_chunks_paragraphs(filepath, buffer_size=1024):\n",
    "    with open(filepath, 'r') as file:\n",
    "        while True:\n",
    "            chunk = file.read(buffer_size)\n",
    "            if not chunk:\n",
    "                break\n",
    "\n",
    "            parts = chunk.split(\"\\n\\n\")  # Split paragraphs \n",
    "\n",
    "            for paragraph in parts:\n",
    "                paragraph = paragraph.strip()\n",
    "                if \"exit\" in paragraph:\n",
    "                    return\n",
    "                print(f\"Processed paragraph:\\n{paragraph}\\n\")\n",
    "\n",
    "process_chunks_paragraphs(\"input.txt\")"
   ]
  },
  {
   "cell_type": "code",
   "execution_count": null,
   "id": "ef3c0d5e",
   "metadata": {},
   "outputs": [],
   "source": [
    "# Pydantic validation\n",
    "from typing import Annotated\n",
    "from pydantic import BaseModel, Field, ValidationError\n",
    "\n",
    "class UserConfig(BaseModel):\n",
    "    username: str\n",
    "    age: Annotated[int, Field(strict=True, gt=0, lt=120)]  # greater than 0, less than 120\n",
    "\n",
    "try:\n",
    "    user = UserConfig(username=\"Benito\", age=27)\n",
    "    print(user)\n",
    "except ValidationError as e:\n",
    "    print(e)"
   ]
  },
  {
   "cell_type": "code",
   "execution_count": null,
   "id": "360cb792",
   "metadata": {},
   "outputs": [],
   "source": [
    "# Secure input with getpass\n",
    "from getpass import getpass\n",
    "\n",
    "password = getpass(\"Enter your password: \")\n",
    "print(\"Password received.\")\n",
    "password_hash = hash(password)  # Example of hashing\n",
    "print(f\"Hashed password: {password_hash}\")\n",
    "password.encode('utf-8')  # Example of encoding"
   ]
  },
  {
   "cell_type": "code",
   "execution_count": 8,
   "id": "d29f4bc1",
   "metadata": {},
   "outputs": [
    {
     "name": "stdout",
     "output_type": "stream",
     "text": [
      "Fibonacci of 10: 55\n"
     ]
    }
   ],
   "source": [
    "from functools import lru_cache\n",
    "\n",
    "@lru_cache(maxsize=None)\n",
    "def fib(n):\n",
    "    if n < 2:\n",
    "        return n\n",
    "    return fib(n-1) + fib(n-2)\n",
    "print(f\"Fibonacci of 10: {fib(10)}\")"
   ]
  },
  {
   "cell_type": "code",
   "execution_count": 11,
   "id": "9d62cf49",
   "metadata": {},
   "outputs": [
    {
     "name": "stdout",
     "output_type": "stream",
     "text": [
      "Time to create 1M points with __slots__: 0.3534 seconds\n",
      "Time to create 1M regular points: 0.4225 seconds\n",
      "\n",
      "Memory per point with __slots__: 48 bytes\n",
      "Memory per regular point: 48 bytes\n",
      "\n",
      "Total memory for points with __slots__: 45.78 MB\n",
      "Total memory for regular points: 45.78 MB\n",
      "Memory saving with __slots__: 0.00 MB\n",
      "\n",
      "Adding z attribute to __slots__ point: 'PointWithSlots' object has no attribute 'z' and no __dict__ for setting new attributes\n",
      "Adding z attribute to regular point: Succeeded, z = 5\n"
     ]
    }
   ],
   "source": [
    "import time\n",
    "import sys\n",
    "\n",
    "# Point class with __slots__\n",
    "class PointWithSlots:\n",
    "    __slots__ = ('x', 'y')\n",
    "    def __init__(self, x, y):\n",
    "        self.x = x\n",
    "        self.y = y\n",
    "\n",
    "# Regular Point class without __slots__\n",
    "class PointRegular:\n",
    "    def __init__(self, x, y):\n",
    "        self.x = x\n",
    "        self.y = y\n",
    "\n",
    "# Timing and memory comparison\n",
    "def compare_performance():\n",
    "    # Test creation time\n",
    "    start_time = time.time()\n",
    "    points_with_slots = [PointWithSlots(i, i) for i in range(1000000)]\n",
    "    slots_time = time.time() - start_time\n",
    "    print(f\"Time to create 1M points with __slots__: {slots_time:.4f} seconds\")\n",
    "    \n",
    "    start_time = time.time()\n",
    "    points_regular = [PointRegular(i, i) for i in range(1000000)]\n",
    "    regular_time = time.time() - start_time\n",
    "    print(f\"Time to create 1M regular points: {regular_time:.4f} seconds\")\n",
    "    \n",
    "    # Memory usage comparison\n",
    "    slots_size = sys.getsizeof(points_with_slots[0]) * len(points_with_slots)\n",
    "    regular_size = sys.getsizeof(points_regular[0]) * len(points_regular)\n",
    "    \n",
    "    print(f\"\\nMemory per point with __slots__: {sys.getsizeof(points_with_slots[0])} bytes\")\n",
    "    print(f\"Memory per regular point: {sys.getsizeof(points_regular[0])} bytes\")\n",
    "    print(f\"\\nTotal memory for points with __slots__: {slots_size/1024/1024:.2f} MB\")\n",
    "    print(f\"Total memory for regular points: {regular_size/1024/1024:.2f} MB\")\n",
    "    print(f\"Memory saving with __slots__: {(regular_size - slots_size)/1024/1024:.2f} MB\")\n",
    "    \n",
    "    # Try to add new attribute\n",
    "    try:\n",
    "        points_with_slots[0].z = 5\n",
    "        print(\"\\nAdding z attribute to __slots__ point: Succeeded (unexpected!)\")\n",
    "    except AttributeError as e:\n",
    "        print(f\"\\nAdding z attribute to __slots__ point: {e}\")\n",
    "        \n",
    "    # Regular class allows adding new attributes\n",
    "    points_regular[0].z = 5\n",
    "    print(f\"Adding z attribute to regular point: Succeeded, z = {points_regular[0].z}\")\n",
    "\n",
    "compare_performance()"
   ]
  },
  {
   "cell_type": "code",
   "execution_count": 10,
   "id": "4d193dfd",
   "metadata": {},
   "outputs": [],
   "source": [
    "class Point:\n",
    "    __slots__ = ('x', 'y')\n",
    "    def __init__(self, x, y):\n",
    "        self.x = x\n",
    "        self.y = y\n",
    "        \n",
    "    def __repr__(self):\n",
    "        return f\"Point({self.x}, {self.y})\"\n",
    "    \n",
    "    def __eq__(self, other):\n",
    "        if not isinstance(other, Point):\n",
    "            return False\n",
    "        return self.x == other.x and self.y == other.y\n",
    "    \n",
    "    def distance_to(self, other):\n",
    "        \"\"\"Calculate Euclidean distance to another point\"\"\"\n",
    "        return ((self.x - other.x) ** 2 + (self.y - other.y) ** 2) ** 0.5\n",
    "    \n",
    "    def translate(self, dx, dy):\n",
    "        \"\"\"Move the point by dx and dy\"\"\"\n",
    "        self.x += dx\n",
    "        self.y += dy\n",
    "        return self\n",
    "    \n",
    "    def midpoint(self, other):\n",
    "        \"\"\"Find the midpoint between this point and another\"\"\"\n",
    "        mid_x = (self.x + other.x) / 2\n",
    "        mid_y = (self.y + other.y) / 2\n",
    "        return Point(mid_x, mid_y)"
   ]
  }
 ],
 "metadata": {
  "kernelspec": {
   "display_name": ".venv",
   "language": "python",
   "name": "python3"
  },
  "language_info": {
   "codemirror_mode": {
    "name": "ipython",
    "version": 3
   },
   "file_extension": ".py",
   "mimetype": "text/x-python",
   "name": "python",
   "nbconvert_exporter": "python",
   "pygments_lexer": "ipython3",
   "version": "3.13.2"
  }
 },
 "nbformat": 4,
 "nbformat_minor": 5
}
