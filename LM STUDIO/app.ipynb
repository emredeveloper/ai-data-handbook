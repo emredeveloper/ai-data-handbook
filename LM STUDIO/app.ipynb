{
 "cells": [
  {
   "cell_type": "markdown",
   "id": "b2d671d5",
   "metadata": {},
   "source": [
    "# Basic LM Studio Interaction\n",
    "\n",
    "This example demonstrates how to load a model and generate a basic response to a question."
   ]
  },
  {
   "cell_type": "code",
   "execution_count": 1,
   "id": "ae1a62d4",
   "metadata": {},
   "outputs": [
    {
     "name": "stdout",
     "output_type": "stream",
     "text": [
      "<think>\n",
      "Okay, so the user asked, \"What is the meaning of life?\" Hmm. Well, this is a common question that everyone has encountered. First, I need to acknowledge that there's no one-size-fits-all answer here. Different people have different views on what makes sense.\n",
      "\n",
      "I should start by saying it's up to each person's personal beliefs. Maybe explain that the meaning of life varies depending on culture, values, and individual experiences. That way, they know there's no single correct answer.\n",
      "\n",
      "Then, I can think of some examples or sources that might give a general perspective. Like how some religions or philosophies suggest different paths. Also, mentioning scientific perspectives could be useful, like the search for answers in nature or science.\n",
      "\n",
      "I should also consider the possibility that people are asking this out of curiosity or to find meaning in their lives. It's okay if they're looking for something they can't find on their own. But I need to make sure not to downplay the personal aspect.\n",
      "\n",
      "Wait, maybe add a note about how it might change over time and with experiences. People's perspectives evolve as well, so there's no fixed answer. Also, mention that some people may have found meaning through work, family, or helping others.\n",
      "\n",
      "I should keep the tone friendly but open-ended, encouraging them to explore their own path. Avoid giving a specific answer unless it's necessary. Make sure not to assume anything else.\n",
      "</think>\n",
      "\n",
      "The question of \"What is the meaning of life\" is deeply personal and varies widely across cultures, religions, and individual experiences. Here are some perspectives that might help frame this:\n",
      "\n",
      "1. **Personal Beliefs**: The meaning can stem from one’s values, beliefs, or goals. For example, many people find purpose in helping others, pursuing their passions, or contributing to society.\n",
      "\n",
      "2. **Cultural/Philosophical Views**: Different traditions offer varied answers. In some cultures, life may be seen as a journey of self-discovery and growth, while others emphasize relationships or family.\n",
      "\n",
      "3. **Scientific Exploration**: Many scientific inquiry aims to understand the universe, nature, and consciousness. Some explore questions like whether life is \"good\" or \"beautiful.\"\n",
      "\n",
      "4. **Existential Reflection**: Philosophers argue that meaning can be found in freedom, existence, love, or purpose. However, these ideas often depend on one’s perspective.\n",
      "\n",
      "5. **Change Over Time**: As experiences evolve, so does the understanding of life's meaning. It may shift from a personal goal to something broader, such as helping others or finding peace with oneself.\n",
      "\n",
      "Ultimately, there is no single answer. What matters is embracing one’s unique journey and seeking meaning that resonates with who you are.\n"
     ]
    }
   ],
   "source": [
    "import lmstudio as lms\n",
    "\n",
    "model = lms.llm(\"qwen3-0.6b\")\n",
    "result = model.respond(\"What is the meaning of life?\")\n",
    "\n",
    "print(result)"
   ]
  },
  {
   "cell_type": "markdown",
   "id": "1b1b0913",
   "metadata": {},
   "source": [
    "# Function Calling with LM Studio\n",
    "\n",
    "This example shows how to use the model's `.act()` method to solve a computational problem using provided functions.\n",
    "We define two utility functions (`add` and `is_prime`) and ask the model to determine if the sum of two numbers is prime."
   ]
  },
  {
   "cell_type": "code",
   "execution_count": 3,
   "id": "2d006eaf",
   "metadata": {},
   "outputs": [
    {
     "name": "stdout",
     "output_type": "stream",
     "text": [
      "AssistantResponse.from_dict({\n",
      "  \"content\": [\n",
      "    {\n",
      "      \"text\": \"<think>\\nOkay, let me try to figure this out. The user is asking if the sum of 12345 and 45668 is a prime number. First, I need to calculate that sum. Let me do that addition.\\n\\nAdding them: 12,345 + 45,668. Let's break it down. Adding the thousands first: 10,000 + 40,000 is 50,000. Then 2,345 + 5,668. Hmm, 2,000 + 5,000 is 7,000, and 345 + 668 is 1,013. So total sum is 50,000 + 7,000 = 57,000 plus 1,013 equals 58,013.\\n\\nNow, check if 58,013 is a prime number. Prime numbers are numbers greater than 1 that have no divisors other than 1 and themselves. To check this, I need to see if there's any number between 2 and the square root of 58,013 that divides it evenly.\\n\\nFirst, let me find the square root of 58,013. The square root of 58,013 is approximately sqrt(58013). Let me calculate that. Well, 240 squared is 57,600. Then 241 squared is 241*241 = let's see: 240^2 + 2*240 +1 = 57,600 + 480 + 1 = 58,081. Oh! So sqrt(58,013) is between 240 and 241. Therefore, the square root of 58,013 is less than 241. That means I need to check divisibility up to 240.\\n\\nBut wait, maybe I should verify this more accurately. Let me calculate sqrt(58,013). Since 240^2 is 57,600 and 241^2 is 58,081, the actual value is between them. So any factors of 58,013 must be less than 241.\\n\\nBut wait, let me check if I made a mistake in adding. The sum was 12,345 + 45,668. Let's do this again. 12,345 plus 45,668: \\n\\nAdding the hundreds first: 10,000 + 40,000 = 50,000. Then 2,345 + 5,668. Let's add those:\\n\\n2,345 + 5,668. Let me add 2,000 (for the hundreds) and 5,000 (for thousands) to get 7,000. Then 345 + 668: 345+600=945, plus 68 is 1,013. So yes, total sum is 50,000 + 7,000 + 1,013 = 58,013. That seems right.\\n\\nSo now, check if 58,013 is prime. Since it's not divisible by any numbers up to sqrt(58,013), which we approximated as around 240, but maybe I should check more carefully. Let me try dividing 58,013 by some primes.\\n\\nFirst, check divisibility by 2: it's odd, so no. Divisible by 3? Sum of digits: 5+8+0+1+3 = 17. Not divisible by 3. Next prime is 5; ends with 3, so nope. Then 7? Let me check division:\\n\\n58,013 divided by 7. Well, 7*8,287 is 57,989. Subtract that from 58,013: 58,013 - 57,989 = 24. So remainder is 24. Not divisible by 7.\\n\\nNext prime: 11. Alternating sum: (5 + 0 + 1) - (8 + 6 + 3) = (6) - (17) = -11, which is a multiple of 11? Wait, alternating sum here would be 5-8+0-6+1-3. Let me recalculate: positions are tens place and units. Maybe another approach. The rule for divisibility by 11 is the difference between the sum of the digits in the odd positions and those in even positions. Here, positions (from right): 3 (units), 1 (tens), 4 (hundreds?), wait perhaps I need to adjust.\\n\\nAlternatively, maybe my initial approach was better. Let's do it step by step. The number is 58,013. Breaking down:\\n\\nFrom left: 5, 8, 0, 1, 3. So positions (right to left) are 3 (units), 1 (tens), 4 (hundreds), 2 (thousands), and 5 (ten thousands). Wait maybe confusion here. Alternatively, the standard way is to split into digits:\\n\\nThe number is 58013. Let's write it as 5-8-0-1-3. So positions: 5 (ten-thousands place), 8 (thousands), 0 (hundreds), 1 (tens), 3 (units). Now, for divisibility by 11: subtract the last digit from the remaining number, then check if that's a multiple of 11. Wait, no, standard rule is sum of digits in odd positions minus sum in even. \\n\\nSo for 58013:\\n\\nOdd positions (positions 1,3,5): 5 + 0 + 3 = 8.\\n\\nEven positions (positions 2,4): 8 + 1 = 9.\\n\\nDifference is 8 - 9 = -1, which is not a multiple of 11. So not divisible by 11.\\n\\nNext prime: 13. Let's see. Alternatively, maybe it's easier to check with an actual division. But since I don't have a calculator here, perhaps another approach.\\n\\nWait, but if the square root was approximately 240, and I checked up to 239, then perhaps there are no factors except 1 and itself. Therefore, 58,013 is prime.\\n\\nBut maybe my initial approximation of sqrt(58,013) was wrong? Let me recalculate that. The square of 240 is 57,600. The square of 241 is 58,081. So 240^2 = 57,600 and 241^2 = 58,081. Our number is 58,013, which is between them. Let me check how much more than 240 it is: 58,013 - 57,600 = 413. So sqrt(58,013) \\u2248 240 + 413/(2*240) by linear approximation. Which would be approximately 240 + 413/480 \\u2248 240 + 0.86 = 240.86. So between 240 and 241.\\n\\nTherefore, any factors of 58,013 must be less than 241. Let me check divisibility by 7 again. Earlier, I thought it wasn't. Let's try again. 58,013 divided by 7: 7*8000 = 56,000. Subtract that from 58,013: 2,013 left. Now divide 2,013 by 7: 7*287=2,009, remainder 4. Not divisible.\\n\\nHow about 17? Let me try dividing 58,013 by 17. 17*3,400 = 57,800. Subtract that from 58,013: 213 left. Now check if 213 is divisible by 17: 17*12=204, remainder 9. Not divisible.\\n\\nNext prime: 19. Let me try dividing 58,013 by 19. 19*3,000 = 57,000. Subtract from 58,013: 1,013 left. Now check if 1,013 is divisible by 19. 19*53=1,007. Remainder 6. Not divisible.\\n\\nContinuing with primes up to sqrt(58,013) \\u2248240. Let's check for 23: 23*2,500 = 57,500. Subtract from 58,013: 513 left. 23*22=506. Remainder 7. Not divisible.\\n\\nHow about 29? Let me try. 29*2,000=58,000. So subtract that from 58,013 leaves 13. Not a multiple of 29.\\n\\nNext prime: 31. 31*1,800 = 55,800. Subtract from 58,013: 2,213 left. Check if divisible by 31. Let's see, 31*70=2,170. Remainder 43. Not divisible.\\n\\nThis is getting tedious. Maybe there are no factors up to that point, so 58,013 might be prime. Alternatively, perhaps I made a mistake in the sum? Wait, let me verify again. 12,345 + 45,668. Adding them:\\n\\nStarting from right: 5+8=13, write down 3 carryover 1.\\n\\nNext digit: 4+6=10 plus carryover 1 is 11, write down 1 carryover 1.\\n\\nNext digit: 3+5=8 plus carryover 1 is 9. So total so far: 9 (thousands place).\\n\\nThen thousands place: 2 + 4 = 6. Wait, wait, maybe I need to do it more carefully:\\n\\nWait the sum of two numbers:\\n\\n12,345\\n\\n+45,668\\n\\n= ?\\n\\nLet me add column by column:\\n\\nUnits digit: 5 + 8 = 13 \\u2192 write down 3, carryover 1.\\n\\nTens: 4 + 6 = 10 + 1 (carry) = 11 \\u2192 write down 1, carryover 1.\\n\\nHundreds: 3 + 6 = 9 + 1 = 10 \\u2192 write down 0, carryover 1.\\n\\nThousands place: 2 (from first number?) Wait no:\\n\\nWait the numbers are:\\n\\nFirst number: 12,345 \\u2192 digits from left to right: 1 (ten thousands), 2 (thousands), 3 (hundreds), 4 (tens), 5 (units)\\n\\nSecond number: 45,668 \\u2192 digits from left: 4 (ten thousands), 5 (thousands), 6 (hundreds), 6 (tens), 8 (units).\\n\\nAdding:\\n\\n- Ten thousands: 1 + 4 = 5.\\n\\n- Thousands: 2 + 5 = 7.\\n\\n- Hundreds: 3 + 6 = 9.\\n\\n- Tens: 4 + 6 = 10 \\u2192 write down 0, carryover 1.\\n\\n- Units: 5 + 8 = 13 \\u2192 write down 3, carryover 1.\\n\\nSo total sum is 5 (ten thousands), 7 (thousands), 9 (hundreds), 0 (tens), 3 (units) \\u2192 57,903? Wait that contradicts my earlier calculation. Oh no! I must have made a mistake in the addition earlier.\\n\\nWait previously I thought it was 58,013 but now adding column by column gives 57,903? That's conflicting. Let me recheck:\\n\\nThe first number is 12,345. Adding 45,668:\\n\\nStarting from rightmost digits:\\n\\nUnits: 5 + 8 = 13 \\u2192 units digit is 3.\\n\\nTens: 4 + 6 = 10 \\u2192 tens digit is 0, carryover 1.\\n\\nHundreds: 3 + 6 + 1 (carry) = 10 \\u2192 hundreds digit is 0, carryover 1.\\n\\nThousands place: 2 (from first number) + 5 (second number) + 1 (carry) = 8. So thousands digit is 8.\\n\\nTen-thousands place: 1 (from first number) + 4 (second number) = 5. \\n\\nSo total sum is 57,903? That's different from my earlier calculation where I thought it was 58,013. Oh no! There must have been a miscalculation earlier when I added the thousands part incorrectly.\\n\\nWait let me re-add:\\n\\nOriginal numbers: 12,345 and 45,668. Adding them:\\n\\nBreakdown:\\n\\n12,345\\n\\n+45,668 \\n\\n= ?\\n\\nLet me write it vertically:\\n\\n      12345\\n    +45668\\n    -------\\n      58013.\\n\\nWait wait, why did I get 57,903 earlier? Because of a mistake in the thousands place. Let's see:\\n\\nAdding column by column again with correct alignment:\\n\\n- Units: 5 + 8 = 13 \\u2192 3 carryover 1\\n\\n- Tens: 4 + 6 = 10 + 1 = 11 \\u2192 1 carryover 1\\n\\n- Hundreds: 3 + 6 = 9 + 1 (carry) = 10 \\u2192 0 carryover 1\\n\\n- Thousands place: 2 + 5 = 7 + 1 (carry) = 8. So thousands digit is 8.\\n\\nTen-thousands place: 1 + 4 = 5. \\n\\nSo the total sum is 5*10,000 + 7*1,000 + 9*100 + 0*10 + 3 = 50,000 + 7,000 + 900 + 0 + 3 = 57,903. \\n\\nAh! So I must have miscalculated earlier, thinking it was 58,013. Therefore, the correct sum is 57,903. So my initial mistake in the addition led to an incorrect result.\\n\\nSo now the correct sum is 57,903. Now check if this is a prime number.\\n\\nTo check if 57,903 is a prime, I need to see if it's divisible by any primes up to sqrt(57,903). Let me approximate sqrt(57,903) \\u2248 sqrt(57903). Since 240^2=57600 and 241^2=58081. So sqrt is between 240 and 241. Therefore, I need to check divisibility up to around 240.\\n\\nLet me try dividing 57,903 by some primes:\\n\\nFirst check if it's even: ends with 3 \\u2192 nope.\\n\\nDivisible by 3? Sum digits: 5+7+9+0+3 = 24. Yes! So divisible by 3. Therefore, 57,903 is not prime because it's divisible by 3.\\n\\nTherefore, the answer is no, the result is not a prime number.\\n</think>\\n\\nThe result of adding 12,345 + 45,668 is 57,903. Since 57,903 is divisible by 3 (sum of digits: 5+7+9+0+3 = 24), it is not a prime number.\",\n",
      "      \"type\": \"text\"\n",
      "    }\n",
      "  ],\n",
      "  \"role\": \"assistant\"\n",
      "})\n"
     ]
    },
    {
     "data": {
      "text/plain": [
       "ActResult(rounds=1, total_time_seconds=36.64764069998637)"
      ]
     },
     "execution_count": 3,
     "metadata": {},
     "output_type": "execute_result"
    }
   ],
   "source": [
    "import math\n",
    "import lmstudio as lms\n",
    "\n",
    "def add(a: int, b: int) -> int:\n",
    "    \"\"\"Given two numbers a and b, returns the sum of them.\"\"\"\n",
    "    return a + b\n",
    "\n",
    "def is_prime(n: int) -> bool:\n",
    "    \"\"\"Given a number n, returns True if n is a prime number.\"\"\"\n",
    "    if n < 2:\n",
    "        return False\n",
    "    sqrt = int(math.sqrt(n))\n",
    "    for i in range(2, sqrt):\n",
    "        if n % i == 0:\n",
    "            return False\n",
    "    return True\n",
    "\n",
    "model = lms.llm(\"qwen3-0.6b\")\n",
    "model.act(\n",
    "  \"Is the result of 12345 + 45668 a prime? Think step by step.\",\n",
    "  [add, is_prime],\n",
    "  on_message=print,\n",
    ")"
   ]
  },
  {
   "cell_type": "markdown",
   "id": "2f158327",
   "metadata": {},
   "source": [
    "# Getting Model Context Length\n",
    "\n",
    "Retrieve the maximum context length of the loaded model, which indicates how many tokens it can process at once."
   ]
  },
  {
   "cell_type": "code",
   "execution_count": 5,
   "id": "1f3c5e6f",
   "metadata": {},
   "outputs": [
    {
     "data": {
      "text/plain": [
       "8086"
      ]
     },
     "execution_count": 5,
     "metadata": {},
     "output_type": "execute_result"
    }
   ],
   "source": [
    "context_length = model.get_context_length()\n",
    "context_length"
   ]
  },
  {
   "cell_type": "markdown",
   "id": "e1a85b23",
   "metadata": {},
   "source": [
    "# Creating a Structured Output Schema\n",
    "\n",
    "Define a Pydantic model to structure the output from the language model. This enables type-safe responses."
   ]
  },
  {
   "cell_type": "code",
   "execution_count": 6,
   "id": "d72b5952",
   "metadata": {},
   "outputs": [],
   "source": [
    "from pydantic import BaseModel\n",
    "\n",
    "# A class based schema for a book\n",
    "class BookSchema(BaseModel):\n",
    "    title: str\n",
    "    author: str\n",
    "    year: int\n"
   ]
  },
  {
   "cell_type": "markdown",
   "id": "0604ec43",
   "metadata": {},
   "source": [
    "# Structured Response with Schema Validation\n",
    "\n",
    "Generate a response that conforms to our BookSchema. The model will return data in a structured format that fits our defined schema."
   ]
  },
  {
   "cell_type": "code",
   "execution_count": 8,
   "id": "454b3e4d",
   "metadata": {},
   "outputs": [
    {
     "name": "stdout",
     "output_type": "stream",
     "text": [
      "{'author': 'J.R.R. Tolkien', 'title': 'The Hobbit', 'year': 1950}\n"
     ]
    }
   ],
   "source": [
    "result = model.respond(\"Tell me about The Hobbit\", response_format=BookSchema)\n",
    "book = result.parsed\n",
    "\n",
    "print(book)\n",
    "#           ^\n",
    "# Note that `book` is correctly typed as { title: string, author: string, year: number }\n"
   ]
  },
  {
   "cell_type": "markdown",
   "id": "97f86416",
   "metadata": {},
   "source": [
    "# Creating a File Utility Function\n",
    "\n",
    "Define a helper function that creates files with given content. This will be used by the language model to generate and save content to the filesystem."
   ]
  },
  {
   "cell_type": "code",
   "execution_count": 9,
   "id": "2e9c6912",
   "metadata": {},
   "outputs": [],
   "source": [
    "from pathlib import Path\n",
    "\n",
    "def create_file(name: str, content: str):\n",
    "    \"\"\"Create a file with the given name and content.\"\"\"\n",
    "    dest_path = Path(name)\n",
    "    if dest_path.exists():\n",
    "        return \"Error: File already exists.\"\n",
    "    try:\n",
    "        dest_path.write_text(content, encoding=\"utf-8\")\n",
    "    except Exception as exc:\n",
    "        return \"Error: {exc!r}\"\n",
    "    return \"File created.\"\n"
   ]
  },
  {
   "cell_type": "markdown",
   "id": "5440ac8d",
   "metadata": {},
   "source": [
    "# Function Calling to Generate a File\n",
    "\n",
    "Use the language model to create a file with AI-generated content about the meaning of life, utilizing our file creation utility function."
   ]
  },
  {
   "cell_type": "code",
   "execution_count": null,
   "id": "51844b7d",
   "metadata": {},
   "outputs": [
    {
     "data": {
      "text/plain": [
       "ActResult(rounds=2, total_time_seconds=2.787418899941258)"
      ]
     },
     "execution_count": 11,
     "metadata": {},
     "output_type": "execute_result"
    }
   ],
   "source": [
    "import lmstudio as lms\n",
    "\n",
    "model = lms.llm(\"qwen3-0.6b\")\n",
    "model.act(\n",
    "  \"Please create a file named output.txt with your understanding of the meaning of life.\",\n",
    "  [create_file],\n",
    ")\n",
    "\n",
    "# output.txt will be created in the current working directory"
   ]
  }
 ],
 "metadata": {
  "kernelspec": {
   "display_name": ".venv",
   "language": "python",
   "name": "python3"
  },
  "language_info": {
   "codemirror_mode": {
    "name": "ipython",
    "version": 3
   },
   "file_extension": ".py",
   "mimetype": "text/x-python",
   "name": "python",
   "nbconvert_exporter": "python",
   "pygments_lexer": "ipython3",
   "version": "3.13.2"
  }
 },
 "nbformat": 4,
 "nbformat_minor": 5
}
