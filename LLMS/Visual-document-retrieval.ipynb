{
 "cells": [
  {
   "cell_type": "code",
   "execution_count": 1,
   "id": "40d858cf",
   "metadata": {},
   "outputs": [
    {
     "data": {
      "text/plain": [
       "Dataset({\n",
       "    features: ['image', 'raw_queries', 'broad_topical_query', 'broad_topical_explanation', 'specific_detail_query', 'specific_detail_explanation', 'visual_element_query', 'visual_element_explanation', 'parsed_into_json'],\n",
       "    num_rows: 2172\n",
       "})"
      ]
     },
     "execution_count": 1,
     "metadata": {},
     "output_type": "execute_result"
    }
   ],
   "source": [
    "from datasets import load_dataset\n",
    "\n",
    "dataset = load_dataset(\"davanstrien/ufo-ColPali\")\n",
    "dataset = dataset[\"train\"]\n",
    "dataset = dataset.filter(lambda example: example[\"specific_detail_query\"] is not None)\n",
    "dataset"
   ]
  },
  {
   "cell_type": "code",
   "execution_count": 2,
   "id": "504c6ed6",
   "metadata": {},
   "outputs": [
    {
     "name": "stderr",
     "output_type": "stream",
     "text": [
      "Using a slow image processor as `use_fast` is unset and a slow processor was saved with this model. `use_fast=True` will be the default behavior in v4.52, even if the model was saved with a slow processor. This will result in minor differences in outputs. You'll still be able to use a slow processor with `use_fast=False`.\n"
     ]
    },
    {
     "data": {
      "application/vnd.jupyter.widget-view+json": {
       "model_id": "9fbcdbdd96c54da9ae174ccc0bac5884",
       "version_major": 2,
       "version_minor": 0
      },
      "text/plain": [
       "Loading checkpoint shards:   0%|          | 0/2 [00:00<?, ?it/s]"
      ]
     },
     "metadata": {},
     "output_type": "display_data"
    }
   ],
   "source": [
    "import torch\n",
    "from transformers import ColPaliForRetrieval, ColPaliProcessor\n",
    "\n",
    "model_name = \"vidore/colpali-v1.2-hf\"\n",
    "\n",
    "processor = ColPaliProcessor.from_pretrained(model_name)\n",
    "\n",
    "model = ColPaliForRetrieval.from_pretrained(\n",
    "    model_name,\n",
    "    torch_dtype=torch.bfloat16,\n",
    "    device_map=\"auto\",\n",
    ").eval()"
   ]
  },
  {
   "cell_type": "code",
   "execution_count": 4,
   "id": "abf3dc0f",
   "metadata": {},
   "outputs": [],
   "source": [
    "inputs = processor(text=\"a document about Mars expedition\").to(\"cpu\")\n",
    "with torch.no_grad():\n",
    "  text_embeds = model(**inputs, return_tensors=\"pt\").embeddings"
   ]
  },
  {
   "cell_type": "code",
   "execution_count": null,
   "id": "744ea195",
   "metadata": {},
   "outputs": [],
   "source": [
    "ds_with_embeddings = dataset.map(lambda example: {'embeddings': model(**processor(images=example[\"image\"]).to(\"cpu\"), return_tensors=\"pt\").embeddings.to(torch.float32).detach().cpu().numpy()})"
   ]
  },
  {
   "cell_type": "code",
   "execution_count": null,
   "id": "08c74f71",
   "metadata": {},
   "outputs": [],
   "source": []
  }
 ],
 "metadata": {
  "kernelspec": {
   "display_name": ".venv",
   "language": "python",
   "name": "python3"
  },
  "language_info": {
   "codemirror_mode": {
    "name": "ipython",
    "version": 3
   },
   "file_extension": ".py",
   "mimetype": "text/x-python",
   "name": "python",
   "nbconvert_exporter": "python",
   "pygments_lexer": "ipython3",
   "version": "3.13.2"
  }
 },
 "nbformat": 4,
 "nbformat_minor": 5
}
