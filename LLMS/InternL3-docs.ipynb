{
 "cells": [
  {
   "cell_type": "code",
   "execution_count": 1,
   "id": "dd796aa2",
   "metadata": {},
   "outputs": [
    {
     "name": "stderr",
     "output_type": "stream",
     "text": [
      "Using `use_fast=True` but `torchvision` is not available. Falling back to the slow image processor.\n",
      "Device set to use cpu\n",
      "Setting `pad_token_id` to `eos_token_id`:151645 for open-end generation.\n"
     ]
    },
    {
     "data": {
      "text/plain": [
       "'The image showcases a vibrant scene of nature, featuring several flowers and a bee. \\n\\n1. **Foreground Flowers**: \\n   - The primary focus is on a large, pink cosmos flower with a prominent yellow center. The petals are soft and slightly r'"
      ]
     },
     "execution_count": 1,
     "metadata": {},
     "output_type": "execute_result"
    }
   ],
   "source": [
    "from transformers import pipeline\n",
    "\n",
    "messages = [\n",
    "    {\n",
    "        \"role\": \"user\",\n",
    "        \"content\": [\n",
    "            {\n",
    "                \"type\": \"image\",\n",
    "                \"image\": \"https://huggingface.co/datasets/huggingface/documentation-images/resolve/main/bee.jpg\",\n",
    "            },\n",
    "            {\"type\": \"text\", \"text\": \"Describe this image.\"},\n",
    "        ],\n",
    "    },\n",
    "]\n",
    "\n",
    "pipe = pipeline(\"image-text-to-text\", model=\"OpenGVLab/InternVL3-1B-hf\")\n",
    "outputs = pipe(text=messages, max_new_tokens=50, return_full_text=False)\n",
    "outputs[0][\"generated_text\"]"
   ]
  }
 ],
 "metadata": {
  "kernelspec": {
   "display_name": ".venv",
   "language": "python",
   "name": "python3"
  },
  "language_info": {
   "codemirror_mode": {
    "name": "ipython",
    "version": 3
   },
   "file_extension": ".py",
   "mimetype": "text/x-python",
   "name": "python",
   "nbconvert_exporter": "python",
   "pygments_lexer": "ipython3",
   "version": "3.13.2"
  }
 },
 "nbformat": 4,
 "nbformat_minor": 5
}
